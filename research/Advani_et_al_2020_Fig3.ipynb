{
 "cells": [
  {
   "cell_type": "code",
   "execution_count": 14,
   "metadata": {},
   "outputs": [],
   "source": [
    "### Aim of this notebook is to recreate Fig3 from the paper\n",
    "### https://www.sciencedirect.com/science/article/pii/S0893608020303117\n",
    "### and make it a test for our setup for future development.\n",
    "import numpy as np\n",
    "import matplotlib.pyplot as plt\n",
    "import pandas as pd\n",
    "# TODO: move to tests when plots will be working"
   ]
  },
  {
   "cell_type": "code",
   "execution_count": 15,
   "metadata": {},
   "outputs": [],
   "source": [
    "N = 300\n",
    "P = 300"
   ]
  },
  {
   "cell_type": "code",
   "execution_count": 16,
   "metadata": {},
   "outputs": [
    {
     "name": "stdout",
     "output_type": "stream",
     "text": [
      "alpha is 1.0\n"
     ]
    }
   ],
   "source": [
    "alpha=P/N\n",
    "print(\"alpha is {}\".format(alpha))"
   ]
  },
  {
   "cell_type": "code",
   "execution_count": 17,
   "metadata": {},
   "outputs": [],
   "source": [
    "sgm_w = 1\n",
    "sgm_e = np.sqrt(1/5)  # to ensure SNR=5\n",
    "sgm_w0 = 0 "
   ]
  },
  {
   "cell_type": "code",
   "execution_count": 18,
   "metadata": {},
   "outputs": [
    {
     "name": "stdout",
     "output_type": "stream",
     "text": [
      "SNR is 5.0\n"
     ]
    }
   ],
   "source": [
    "SNR=sgm_w**2/sgm_e**2\n",
    "print(\"SNR is {}\".format(SNR))"
   ]
  },
  {
   "cell_type": "code",
   "execution_count": 215,
   "metadata": {},
   "outputs": [],
   "source": [
    "phases=['train','valid']"
   ]
  },
  {
   "cell_type": "code",
   "execution_count": 216,
   "metadata": {},
   "outputs": [],
   "source": [
    "### TEACHER\n",
    "def generate():\n",
    "    Y, X, eps = {}, {}, {}\n",
    "    w_bar = np.random.normal(0, sgm_w, N)\n",
    "    for phase in phases:\n",
    "        X[phase] = np.random.normal(0, np.sqrt(1/N), [P, N])\n",
    "        eps[phase] = np.random.normal(0, sgm_e, P)\n",
    "\n",
    "        Y[phase] = X[phase] @ w_bar + eps[phase]\n",
    "    return X,Y"
   ]
  },
  {
   "cell_type": "code",
   "execution_count": 217,
   "metadata": {},
   "outputs": [],
   "source": [
    "### STUDENT\n",
    "W0 = np.random.normal(0, sgm_w0, N)\n",
    "def student(x, w):\n",
    "     return x @ w"
   ]
  },
  {
   "cell_type": "code",
   "execution_count": 421,
   "metadata": {},
   "outputs": [],
   "source": [
    "epochs=100\n",
    "lr=1e-2\n",
    "tau=1"
   ]
  },
  {
   "cell_type": "code",
   "execution_count": 425,
   "metadata": {},
   "outputs": [],
   "source": [
    "def MP_evals(P, N):\n",
    "    x = np.random.normal(size=(P, N))\n",
    "    eVals, _ = np.linalg.eigh(np.corrcoef(x, rowvar=0))\n",
    "    idx = eVals.argsort()[::-1]  # arguments for sorting eVal desc\n",
    "    return eVals[idx]\n",
    "\n",
    "eVals=MP_evals(P,N)\n",
    "\n",
    "def analytical(t):\n",
    "    A0 = (sgm_w**2 + sgm_w0**2)\n",
    "    A = lambda t: A0*np.exp(-2 * eVals* t/tau)\n",
    "    B0= 1/eVals * sgm_e**3\n",
    "    B = lambda t: B0*(1 - np.exp(-eVals * t/tau))**2\n",
    "    eg11= 1 / N * np.sum(A(t) + B(t)) + sgm_e**2\n",
    "    return eg11\n",
    "\n",
    "timesteps=np.linspace(0, epochs, 100)\n",
    "e_g11 = np.array([analytical(_t) for _t in timesteps])"
   ]
  },
  {
   "cell_type": "code",
   "execution_count": 429,
   "metadata": {},
   "outputs": [],
   "source": [
    "   \n",
    "n_run=100\n",
    "\n",
    "w=W0.copy()\n",
    "for n in range(n_run):\n",
    "    history={k:[] for k in phases}   \n",
    "    X, Y = generate()\n",
    "#     plt.hist(X['train'])\n",
    "\n",
    "    for epoch in range(1,epochs+1):\n",
    "#         print(\"EPOCH {}\".format(epoch))\n",
    "        running_grad=0.0\n",
    "        for phase in phases:\n",
    "            running_loss=0.0\n",
    "#             print(\"PHASE {}\".format(phase))\n",
    "            for x, y in zip(X[phase],Y[phase]):\n",
    "                y_tru=y\n",
    "                y_pred=student(x, w)\n",
    "                running_loss+=(y_tru-y_pred)**2\n",
    "                if phase=='train':\n",
    "                    running_grad+= -2*(y_tru-y_pred)*x\n",
    "            loss=running_loss/P\n",
    "#                 if epoch==1 and phase=='train': ### DEBUG\n",
    "#                     print(\"LOSS\", loss)\n",
    "            grad=running_grad/P\n",
    "            if phase=='train':\n",
    "                w-=lr*running_grad\n",
    "            history[phase].append(loss)\n",
    "    var_t=[x**2 for x in np.array(history['train'])]\n",
    "    var_v=[x**2 for x in np.array(history['valid'])]\n",
    "    if n==0:\n",
    "        training = np.array(history['train'])\n",
    "        validate = np.array(history['valid'])\n",
    "        tr_var = np.array(var_t)\n",
    "        val_var = np.array(var_v)\n",
    "    else:\n",
    "        training += np.array(history['train'])\n",
    "        validate += np.array(history['valid'])\n",
    "        tr_var += np.array(var_t)\n",
    "        val_var += np.array(var_v)\n",
    "\n",
    "### AVERAGING OVER REALISATIONS\n",
    "training/=n_run\n",
    "validate/=n_run\n",
    "tr_var/=n_run\n",
    "val_var/=n_run\n",
    "tr_var-=training**2\n",
    "val_var-=validate**2\n"
   ]
  },
  {
   "cell_type": "code",
   "execution_count": 430,
   "metadata": {},
   "outputs": [],
   "source": [
    "### ASSERTING INITIAL VALUES WITHIN THE THEORETICAL PREDICTION\n",
    "theor_0=sgm_w0**2 +sgm_w**2+sgm_e**2\n",
    "tr_0=training[0]\n",
    "val_0=validate[0]\n",
    "# assert (tr_0-theor_0)**2 < 1e-2   \n",
    "# assert (val_0-theor_0)**2 < 1e-1"
   ]
  },
  {
   "cell_type": "code",
   "execution_count": 434,
   "metadata": {},
   "outputs": [
    {
     "data": {
      "image/png": "[encoded data removed]",
      "text/plain": [
       "<Figure size 432x288 with 1 Axes>"
      ]
     },
     "metadata": {
      "needs_background": "light"
     },
     "output_type": "display_data"
    }
   ],
   "source": [
    "plt.plot(np.linspace(0,epoch,epoch),training, label='train')\n",
    "plt.fill_between(np.linspace(0,epoch,epoch),training - tr_var, training + tr_var, alpha=0.2)\n",
    "\n",
    "plt.plot(np.linspace(0,epoch,epoch),validate, label='validate')\n",
    "plt.fill_between(np.linspace(0,epoch,epoch),validate - val_var, validate + val_var, alpha=0.2)\n",
    "plt.plot(timesteps, e_g11,linestyle='--', label='Gen error thy')\n",
    "# plt.ylim([0,1.5])\n",
    "plt.grid()\n",
    "plt.axhline(y=sgm_w0**2 +sgm_w**2+sgm_e**2, color='r', linestyle='--',  linewidth=0.8) \n",
    "plt.legend()\n",
    "plt.show()"
   ]
  },
  {
   "cell_type": "code",
   "execution_count": null,
   "metadata": {},
   "outputs": [],
   "source": []
  },
  {
   "cell_type": "code",
   "execution_count": null,
   "metadata": {},
   "outputs": [],
   "source": []
  }
 ],
 "metadata": {
  "kernelspec": {
   "display_name": "Python 3",
   "language": "python",
   "name": "python3"
  },
  "language_info": {
   "codemirror_mode": {
    "name": "ipython",
    "version": 3
   },
   "file_extension": ".py",
   "mimetype": "text/x-python",
   "name": "python",
   "nbconvert_exporter": "python",
   "pygments_lexer": "ipython3",
   "version": "3.8.3"
  }
 },
 "nbformat": 4,
 "nbformat_minor": 4
}