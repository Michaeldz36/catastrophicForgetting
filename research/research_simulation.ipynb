{
 "cells": [
  {
   "cell_type": "code",
   "execution_count": 1,
   "metadata": {
    "collapsed": true,
    "pycharm": {
     "name": "#%%\n"
    }
   },
   "outputs": [],
   "source": [
    "# starting imports\n",
    "import torch.nn as nn\n",
    "import torch.optim as optim\n",
    "import pandas as pd\n",
    "import matplotlib.pyplot as plt\n",
    "from utils.utils import Setup, Teacher, Student, PrepareData, \\\n",
    "    load_data, train_valid_loop\n",
    "from sklearn.model_selection import train_test_split\n",
    "from collections import Counter\n",
    "import numpy as np\n",
    "from research.main import main, plot_history"
   ]
  },
  {
   "cell_type": "code",
   "execution_count": 2,
   "outputs": [],
   "source": [
    "# instantiate setup and teachers\n",
    "setup = Setup()\n",
    "teacher1 = Teacher()\n",
    "teacher2 = Teacher()"
   ],
   "metadata": {
    "collapsed": false,
    "pycharm": {
     "name": "#%%\n"
    }
   }
  },
  {
   "cell_type": "code",
   "execution_count": 3,
   "outputs": [],
   "source": [
    "# hyperparameters, can be modified\n",
    "N1 = N2 = setup.N * 1  # for now N=N1=N2\n",
    "batch_size = setup.P * 1\n",
    "P1 = setup.P * 1\n",
    "P2 = setup.P * 1\n",
    "learning_rate = 1e-2\n",
    "epochs1 = 500\n",
    "epochs2 = 500\n",
    "sgm_e = setup.sgm_e\n",
    "sgm_w1 = setup.sgm_w * 1\n",
    "sgm_w2 = setup.sgm_w * 2\n"
   ],
   "metadata": {
    "collapsed": false,
    "pycharm": {
     "name": "#%%\n"
    }
   }
  },
  {
   "cell_type": "code",
   "execution_count": null,
   "outputs": [],
   "source": [
    "\"\"\"\n",
    "Creates a pair of Teachers (T1, T2),\n",
    "each teacher generates:\n",
    " -P examples of N-parameter random vectors X generated from normal distribution\n",
    "with variance sgm_w**2\n",
    " -P examples of linear signal Y created from random vectors.\n",
    " A simple white noise with variance sgm_e**2 is added to the signals.\n",
    "\n",
    "Generated data is splitted with 2:1 ratio for training/validation purposes.\n",
    "\n",
    "Creates Student model, together with SGD optimizer with learning ratio lr and MSE loss function.\n",
    "Prepares training, validation and cross-generalization datasets with scaling of the input vectors.\n",
    "\n",
    "Runs 2 subsequent lessons runned for epochs1 and epochs2 time.\n",
    "Returns dictionary with training, validation and cross generalization errors for full simulation\n",
    "\"\"\"\n",
    "\n",
    "n_runs=10\n",
    "realisations=[]\n",
    "for r in range(n_runs):\n",
    "    print('Realisation {}/{}'.format(r, n_runs))\n",
    "    history=main()\n",
    "    realisations.append(history)\n",
    "c=Counter()\n",
    "for r in realisations:\n",
    "    c.update(r)\n",
    "# averaging over teacher realisations\n",
    "errors = pd.DataFrame(c)/n_runs\n",
    "plot_history(errors)"
   ],
   "metadata": {
    "collapsed": false,
    "pycharm": {
     "name": "#%%\n"
    }
   }
  }
 ],
 "metadata": {
  "kernelspec": {
   "display_name": "Python 3",
   "language": "python",
   "name": "python3"
  },
  "language_info": {
   "codemirror_mode": {
    "name": "ipython",
    "version": 2
   },
   "file_extension": ".py",
   "mimetype": "text/x-python",
   "name": "python",
   "nbconvert_exporter": "python",
   "pygments_lexer": "ipython2",
   "version": "2.7.6"
  }
 },
 "nbformat": 4,
 "nbformat_minor": 0
}