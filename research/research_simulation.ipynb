{
 "cells": [
  {
   "cell_type": "code",
   "execution_count": 17,
   "metadata": {
    "pycharm": {
     "name": "#%%\n"
    }
   },
   "outputs": [],
   "source": [
    "# starting imports, do not modify\n",
    "import os, sys\n",
    "if 'google.colab' in sys.modules:\n",
    "    %cd /content\n",
    "    if not os.path.isdir('catastrophicForgetting'):\n",
    "        !git clone --depth 1 https://github.com/Michaeldz36/catastrophicForgetting.git\n",
    "        %cd catastrophicForgetting.research\n",
    "from utils.utils import Setup\n",
    "from main import simulate, plot_history"
   ]
  },
  {
   "cell_type": "code",
   "execution_count": 14,
   "metadata": {
    "collapsed": false,
    "jupyter": {
     "outputs_hidden": false
    },
    "pycharm": {
     "name": "#%%\n"
    }
   },
   "outputs": [],
   "source": [
    "# instantiate setup, do not modify\n",
    "setup = Setup()"
   ]
  },
  {
   "cell_type": "code",
   "execution_count": 15,
   "metadata": {
    "collapsed": false,
    "jupyter": {
     "outputs_hidden": false
    },
    "pycharm": {
     "name": "#%%\n"
    }
   },
   "outputs": [],
   "source": [
    "# hyperparameters, can be modified\n",
    "N = setup.N * 1\n",
    "batch_size = setup.P * 1\n",
    "P1 = setup.P * 1\n",
    "P2 = setup.P * 2\n",
    "sgm_e = setup.sgm_e\n",
    "sgm_w1 = setup.sgm_w * 1\n",
    "sgm_w2 = setup.sgm_w * 2\n",
    "learning_rate = 1e-1\n",
    "epochs1 = 150\n",
    "epochs2 = 150"
   ]
  },
  {
   "cell_type": "code",
   "execution_count": 16,
   "metadata": {
    "collapsed": false,
    "jupyter": {
     "outputs_hidden": false
    },
    "pycharm": {
     "name": "#%%\n"
    }
   },
   "outputs": [
    {
     "name": "stdout",
     "output_type": "stream",
     "text": [
      "Realisation 0/10\n"
     ]
    },
    {
     "ename": "TypeError",
     "evalue": "'float' object cannot be interpreted as an integer",
     "output_type": "error",
     "traceback": [
      "\u001B[1;31m---------------------------------------------------------------------------\u001B[0m",
      "\u001B[1;31mTypeError\u001B[0m                                 Traceback (most recent call last)",
      "\u001B[1;32m<ipython-input-16-2ee7cd9d55f8>\u001B[0m in \u001B[0;36m<module>\u001B[1;34m\u001B[0m\n\u001B[0;32m     24\u001B[0m           epochs1, epochs2]\n\u001B[0;32m     25\u001B[0m \u001B[0mn_runs\u001B[0m\u001B[1;33m=\u001B[0m\u001B[1;36m10\u001B[0m\u001B[1;33m\u001B[0m\u001B[1;33m\u001B[0m\u001B[0m\n\u001B[1;32m---> 26\u001B[1;33m \u001B[0merrors\u001B[0m \u001B[1;33m=\u001B[0m \u001B[0msimulate\u001B[0m\u001B[1;33m(\u001B[0m\u001B[0msyllabus\u001B[0m\u001B[1;33m,\u001B[0m \u001B[0mn_runs\u001B[0m\u001B[1;33m)\u001B[0m\u001B[1;33m\u001B[0m\u001B[1;33m\u001B[0m\u001B[0m\n\u001B[0m\u001B[0;32m     27\u001B[0m \u001B[0mplot_history\u001B[0m\u001B[1;33m(\u001B[0m\u001B[0merrors\u001B[0m\u001B[1;33m,\u001B[0m \u001B[0mn_runs\u001B[0m\u001B[1;33m)\u001B[0m\u001B[1;33m\u001B[0m\u001B[1;33m\u001B[0m\u001B[0m\n\u001B[0;32m     28\u001B[0m \u001B[1;33m\u001B[0m\u001B[0m\n",
      "\u001B[1;32m~\\PycharmProjects\\catastrophicForgetting\\research\\main.py\u001B[0m in \u001B[0;36msimulate\u001B[1;34m(syllabus, n_runs)\u001B[0m\n\u001B[0;32m     89\u001B[0m         \u001B[0mprint\u001B[0m\u001B[1;33m(\u001B[0m\u001B[1;34m'Realisation {}/{}'\u001B[0m\u001B[1;33m.\u001B[0m\u001B[0mformat\u001B[0m\u001B[1;33m(\u001B[0m\u001B[0mr\u001B[0m\u001B[1;33m,\u001B[0m \u001B[0mn_runs\u001B[0m\u001B[1;33m)\u001B[0m\u001B[1;33m)\u001B[0m\u001B[1;33m\u001B[0m\u001B[1;33m\u001B[0m\u001B[0m\n\u001B[0;32m     90\u001B[0m         \u001B[0mhistory\u001B[0m \u001B[1;33m=\u001B[0m \u001B[0mmain\u001B[0m\u001B[1;33m(\u001B[0m\u001B[1;33m*\u001B[0m\u001B[0msyllabus\u001B[0m\u001B[1;33m)\u001B[0m\u001B[1;33m\u001B[0m\u001B[1;33m\u001B[0m\u001B[0m\n\u001B[1;32m---> 91\u001B[1;33m         \u001B[0mrealisations\u001B[0m\u001B[1;33m.\u001B[0m\u001B[0mappend\u001B[0m\u001B[1;33m(\u001B[0m\u001B[0mhistory\u001B[0m\u001B[1;33m)\u001B[0m\u001B[1;33m\u001B[0m\u001B[1;33m\u001B[0m\u001B[0m\n\u001B[0m\u001B[0;32m     92\u001B[0m     \u001B[1;31m# TODO: check (unit test)\u001B[0m\u001B[1;33m\u001B[0m\u001B[1;33m\u001B[0m\u001B[1;33m\u001B[0m\u001B[0m\n\u001B[0;32m     93\u001B[0m     \u001B[0mc\u001B[0m \u001B[1;33m=\u001B[0m \u001B[0mCounter\u001B[0m\u001B[1;33m(\u001B[0m\u001B[1;33m)\u001B[0m\u001B[1;33m\u001B[0m\u001B[1;33m\u001B[0m\u001B[0m\n",
      "\u001B[1;32m~\\PycharmProjects\\catastrophicForgetting\\research\\main.py\u001B[0m in \u001B[0;36mmain\u001B[1;34m(N1, N2, P1, P2, sgm_w1, sgm_w2, sgm_e, lr, epochs1, epochs2)\u001B[0m\n\u001B[0;32m     31\u001B[0m \u001B[1;33m\u001B[0m\u001B[0m\n\u001B[0;32m     32\u001B[0m     \u001B[0mX1\u001B[0m\u001B[1;33m,\u001B[0m \u001B[0mY1\u001B[0m \u001B[1;33m=\u001B[0m \u001B[0mteacher1\u001B[0m\u001B[1;33m.\u001B[0m\u001B[0mbuild_teacher\u001B[0m\u001B[1;33m(\u001B[0m\u001B[0mN\u001B[0m\u001B[1;33m,\u001B[0m \u001B[0mP1\u001B[0m\u001B[1;33m,\u001B[0m \u001B[0msgm_w1\u001B[0m\u001B[1;33m,\u001B[0m \u001B[0msgm_e\u001B[0m\u001B[1;33m)\u001B[0m\u001B[1;33m\u001B[0m\u001B[1;33m\u001B[0m\u001B[0m\n\u001B[1;32m---> 33\u001B[1;33m     \u001B[0mX2\u001B[0m\u001B[1;33m,\u001B[0m \u001B[0mY2\u001B[0m \u001B[1;33m=\u001B[0m \u001B[0mteacher2\u001B[0m\u001B[1;33m.\u001B[0m\u001B[0mbuild_teacher\u001B[0m\u001B[1;33m(\u001B[0m\u001B[0mN\u001B[0m\u001B[1;33m,\u001B[0m \u001B[0mP2\u001B[0m\u001B[1;33m,\u001B[0m \u001B[0msgm_w2\u001B[0m\u001B[1;33m,\u001B[0m \u001B[0msgm_e\u001B[0m\u001B[1;33m)\u001B[0m\u001B[1;33m\u001B[0m\u001B[1;33m\u001B[0m\u001B[0m\n\u001B[0m\u001B[0;32m     34\u001B[0m     \u001B[1;31m# TODO: check correlation between X1, X2\u001B[0m\u001B[1;33m\u001B[0m\u001B[1;33m\u001B[0m\u001B[1;33m\u001B[0m\u001B[0m\n\u001B[0;32m     35\u001B[0m     \u001B[0mX1_train\u001B[0m\u001B[1;33m,\u001B[0m \u001B[0mX1_test\u001B[0m\u001B[1;33m,\u001B[0m \u001B[0mY1_train\u001B[0m\u001B[1;33m,\u001B[0m \u001B[0mY1_test\u001B[0m \u001B[1;33m=\u001B[0m \u001B[0mtrain_test_split\u001B[0m\u001B[1;33m(\u001B[0m\u001B[0mX1\u001B[0m\u001B[1;33m,\u001B[0m \u001B[0mY1\u001B[0m\u001B[1;33m,\u001B[0m \u001B[0mtest_size\u001B[0m\u001B[1;33m=\u001B[0m\u001B[1;36m0.33\u001B[0m\u001B[1;33m,\u001B[0m \u001B[0mrandom_state\u001B[0m\u001B[1;33m=\u001B[0m\u001B[1;36m42\u001B[0m\u001B[1;33m)\u001B[0m\u001B[1;33m\u001B[0m\u001B[1;33m\u001B[0m\u001B[0m\n",
      "\u001B[1;32m~\\PycharmProjects\\catastrophicForgetting\\utils\\utils.py\u001B[0m in \u001B[0;36mbuild_teacher\u001B[1;34m(self, N, P, sgm_w, sgm_e)\u001B[0m\n\u001B[0;32m     24\u001B[0m         \u001B[0mX\u001B[0m \u001B[1;33m=\u001B[0m \u001B[0mnp\u001B[0m\u001B[1;33m.\u001B[0m\u001B[0mrandom\u001B[0m\u001B[1;33m.\u001B[0m\u001B[0mnormal\u001B[0m\u001B[1;33m(\u001B[0m\u001B[1;36m0\u001B[0m\u001B[1;33m,\u001B[0m \u001B[0mnp\u001B[0m\u001B[1;33m.\u001B[0m\u001B[0msqrt\u001B[0m\u001B[1;33m(\u001B[0m\u001B[1;36m1\u001B[0m \u001B[1;33m/\u001B[0m \u001B[0mN\u001B[0m\u001B[1;33m)\u001B[0m\u001B[1;33m,\u001B[0m \u001B[1;33m[\u001B[0m\u001B[0mP\u001B[0m\u001B[1;33m,\u001B[0m \u001B[0mN\u001B[0m\u001B[1;33m]\u001B[0m\u001B[1;33m)\u001B[0m\u001B[1;33m\u001B[0m\u001B[1;33m\u001B[0m\u001B[0m\n\u001B[0;32m     25\u001B[0m         \u001B[0meps\u001B[0m \u001B[1;33m=\u001B[0m \u001B[0mnp\u001B[0m\u001B[1;33m.\u001B[0m\u001B[0mrandom\u001B[0m\u001B[1;33m.\u001B[0m\u001B[0mnormal\u001B[0m\u001B[1;33m(\u001B[0m\u001B[1;36m0\u001B[0m\u001B[1;33m,\u001B[0m \u001B[0msgm_e\u001B[0m\u001B[1;33m,\u001B[0m \u001B[0mP\u001B[0m\u001B[1;33m)\u001B[0m\u001B[1;33m\u001B[0m\u001B[1;33m\u001B[0m\u001B[0m\n\u001B[1;32m---> 26\u001B[1;33m \u001B[1;33m\u001B[0m\u001B[0m\n\u001B[0m\u001B[0;32m     27\u001B[0m         \u001B[0mY\u001B[0m \u001B[1;33m=\u001B[0m \u001B[0mX\u001B[0m \u001B[1;33m@\u001B[0m \u001B[0mw_bar\u001B[0m \u001B[1;33m+\u001B[0m \u001B[0meps\u001B[0m\u001B[1;33m\u001B[0m\u001B[1;33m\u001B[0m\u001B[0m\n\u001B[0;32m     28\u001B[0m         \u001B[1;31m# convert from float64 to float32 for various reasons (speedup, less memory usage)\u001B[0m\u001B[1;33m\u001B[0m\u001B[1;33m\u001B[0m\u001B[1;33m\u001B[0m\u001B[0m\n",
      "\u001B[1;32mmtrand.pyx\u001B[0m in \u001B[0;36mnumpy.random.mtrand.RandomState.normal\u001B[1;34m()\u001B[0m\n",
      "\u001B[1;32m_common.pyx\u001B[0m in \u001B[0;36mnumpy.random._common.cont\u001B[1;34m()\u001B[0m\n",
      "\u001B[1;31mTypeError\u001B[0m: 'float' object cannot be interpreted as an integer"
     ]
    }
   ],
   "source": [
    "# main simulation\n",
    "\"\"\"\n",
    "Creates a pair of Teachers (T1, T2),\n",
    "each teacher generates:\n",
    " -P examples of N-parameter random vectors X generated from normal distribution\n",
    "with variance sgm_w**2\n",
    " -P examples of linear signal Y created from random vectors.\n",
    " A simple white noise with variance sgm_e**2 is added to the signals.\n",
    "\n",
    "Generated data is splitted with 2:1 ratio for training/validation purposes.\n",
    "\n",
    "Creates Student model, together with SGD optimizer with learning ratio lr and MSE loss function.\n",
    "Prepares training, validation and cross-generalization datasets with scaling of the input vectors.\n",
    "\n",
    "Runs 2 subsequent lessons runned for epochs1 and epochs2 time.\n",
    "Returns dictionary with training, validation and cross generalization errors for full simulation\n",
    "Uses setup organised into \"syllabus\" list, repeats simulation n_runs times and averages over realisation.\n",
    "Finally plots resulting errors.\n",
    "\"\"\"\n",
    "\n",
    "syllabus=[N,\n",
    "          P1, P2,\n",
    "          sgm_w1, sgm_w2,\n",
    "          sgm_e, learning_rate,\n",
    "          epochs1, epochs2]\n",
    "n_runs=10\n",
    "errors = simulate(syllabus, n_runs)\n",
    "plot_history(errors, n_runs)"
   ]
  },
  {
   "cell_type": "code",
   "execution_count": 12,
   "metadata": {
    "collapsed": false,
    "jupyter": {
     "outputs_hidden": false
    },
    "pycharm": {
     "name": "#%%\n"
    }
   },
   "outputs": [],
   "source": []
  },
  {
   "cell_type": "code",
   "execution_count": null,
   "outputs": [],
   "source": [],
   "metadata": {
    "collapsed": false,
    "pycharm": {
     "name": "#%%\n"
    }
   }
  }
 ],
 "metadata": {
  "kernelspec": {
   "display_name": "Python 3",
   "language": "python",
   "name": "python3"
  },
  "language_info": {
   "codemirror_mode": {
    "name": "ipython",
    "version": 3
   },
   "file_extension": ".py",
   "mimetype": "text/x-python",
   "name": "python",
   "nbconvert_exporter": "python",
   "pygments_lexer": "ipython3",
   "version": "3.8.5"
  }
 },
 "nbformat": 4,
 "nbformat_minor": 4
}